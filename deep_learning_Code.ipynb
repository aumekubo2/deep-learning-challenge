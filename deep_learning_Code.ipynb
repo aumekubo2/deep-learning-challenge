{
  "cells": [
    {
      "cell_type": "markdown",
      "metadata": {
        "id": "GXIT8Jo2e7Bb"
      },
      "source": [
        "## Preprocessing"
      ]
    },
    {
      "cell_type": "code",
      "execution_count": 1,
      "metadata": {
        "colab": {
          "base_uri": "https://localhost:8080/",
          "height": 206
        },
        "id": "iMIPyJXQe7Be",
        "outputId": "cca9995c-6ba3-4182-83eb-b222e76245f9"
      },
      "outputs": [
        {
          "output_type": "execute_result",
          "data": {
            "text/plain": [
              "        EIN                                      NAME APPLICATION_TYPE  \\\n",
              "0  10520599              BLUE KNIGHTS MOTORCYCLE CLUB              T10   \n",
              "1  10531628    AMERICAN CHESAPEAKE CLUB CHARITABLE TR               T3   \n",
              "2  10547893        ST CLOUD PROFESSIONAL FIREFIGHTERS               T5   \n",
              "3  10553066            SOUTHSIDE ATHLETIC ASSOCIATION               T3   \n",
              "4  10556103  GENETIC RESEARCH INSTITUTE OF THE DESERT               T3   \n",
              "\n",
              "        AFFILIATION CLASSIFICATION      USE_CASE  ORGANIZATION  STATUS  \\\n",
              "0       Independent          C1000    ProductDev   Association       1   \n",
              "1       Independent          C2000  Preservation  Co-operative       1   \n",
              "2  CompanySponsored          C3000    ProductDev   Association       1   \n",
              "3  CompanySponsored          C2000  Preservation         Trust       1   \n",
              "4       Independent          C1000     Heathcare         Trust       1   \n",
              "\n",
              "      INCOME_AMT SPECIAL_CONSIDERATIONS  ASK_AMT  IS_SUCCESSFUL  \n",
              "0              0                      N     5000              1  \n",
              "1         1-9999                      N   108590              1  \n",
              "2              0                      N     5000              0  \n",
              "3    10000-24999                      N     6692              1  \n",
              "4  100000-499999                      N   142590              1  "
            ],
            "text/html": [
              "\n",
              "  <div id=\"df-819d8fa3-7851-4296-9075-d3c35337e634\">\n",
              "    <div class=\"colab-df-container\">\n",
              "      <div>\n",
              "<style scoped>\n",
              "    .dataframe tbody tr th:only-of-type {\n",
              "        vertical-align: middle;\n",
              "    }\n",
              "\n",
              "    .dataframe tbody tr th {\n",
              "        vertical-align: top;\n",
              "    }\n",
              "\n",
              "    .dataframe thead th {\n",
              "        text-align: right;\n",
              "    }\n",
              "</style>\n",
              "<table border=\"1\" class=\"dataframe\">\n",
              "  <thead>\n",
              "    <tr style=\"text-align: right;\">\n",
              "      <th></th>\n",
              "      <th>EIN</th>\n",
              "      <th>NAME</th>\n",
              "      <th>APPLICATION_TYPE</th>\n",
              "      <th>AFFILIATION</th>\n",
              "      <th>CLASSIFICATION</th>\n",
              "      <th>USE_CASE</th>\n",
              "      <th>ORGANIZATION</th>\n",
              "      <th>STATUS</th>\n",
              "      <th>INCOME_AMT</th>\n",
              "      <th>SPECIAL_CONSIDERATIONS</th>\n",
              "      <th>ASK_AMT</th>\n",
              "      <th>IS_SUCCESSFUL</th>\n",
              "    </tr>\n",
              "  </thead>\n",
              "  <tbody>\n",
              "    <tr>\n",
              "      <th>0</th>\n",
              "      <td>10520599</td>\n",
              "      <td>BLUE KNIGHTS MOTORCYCLE CLUB</td>\n",
              "      <td>T10</td>\n",
              "      <td>Independent</td>\n",
              "      <td>C1000</td>\n",
              "      <td>ProductDev</td>\n",
              "      <td>Association</td>\n",
              "      <td>1</td>\n",
              "      <td>0</td>\n",
              "      <td>N</td>\n",
              "      <td>5000</td>\n",
              "      <td>1</td>\n",
              "    </tr>\n",
              "    <tr>\n",
              "      <th>1</th>\n",
              "      <td>10531628</td>\n",
              "      <td>AMERICAN CHESAPEAKE CLUB CHARITABLE TR</td>\n",
              "      <td>T3</td>\n",
              "      <td>Independent</td>\n",
              "      <td>C2000</td>\n",
              "      <td>Preservation</td>\n",
              "      <td>Co-operative</td>\n",
              "      <td>1</td>\n",
              "      <td>1-9999</td>\n",
              "      <td>N</td>\n",
              "      <td>108590</td>\n",
              "      <td>1</td>\n",
              "    </tr>\n",
              "    <tr>\n",
              "      <th>2</th>\n",
              "      <td>10547893</td>\n",
              "      <td>ST CLOUD PROFESSIONAL FIREFIGHTERS</td>\n",
              "      <td>T5</td>\n",
              "      <td>CompanySponsored</td>\n",
              "      <td>C3000</td>\n",
              "      <td>ProductDev</td>\n",
              "      <td>Association</td>\n",
              "      <td>1</td>\n",
              "      <td>0</td>\n",
              "      <td>N</td>\n",
              "      <td>5000</td>\n",
              "      <td>0</td>\n",
              "    </tr>\n",
              "    <tr>\n",
              "      <th>3</th>\n",
              "      <td>10553066</td>\n",
              "      <td>SOUTHSIDE ATHLETIC ASSOCIATION</td>\n",
              "      <td>T3</td>\n",
              "      <td>CompanySponsored</td>\n",
              "      <td>C2000</td>\n",
              "      <td>Preservation</td>\n",
              "      <td>Trust</td>\n",
              "      <td>1</td>\n",
              "      <td>10000-24999</td>\n",
              "      <td>N</td>\n",
              "      <td>6692</td>\n",
              "      <td>1</td>\n",
              "    </tr>\n",
              "    <tr>\n",
              "      <th>4</th>\n",
              "      <td>10556103</td>\n",
              "      <td>GENETIC RESEARCH INSTITUTE OF THE DESERT</td>\n",
              "      <td>T3</td>\n",
              "      <td>Independent</td>\n",
              "      <td>C1000</td>\n",
              "      <td>Heathcare</td>\n",
              "      <td>Trust</td>\n",
              "      <td>1</td>\n",
              "      <td>100000-499999</td>\n",
              "      <td>N</td>\n",
              "      <td>142590</td>\n",
              "      <td>1</td>\n",
              "    </tr>\n",
              "  </tbody>\n",
              "</table>\n",
              "</div>\n",
              "      <button class=\"colab-df-convert\" onclick=\"convertToInteractive('df-819d8fa3-7851-4296-9075-d3c35337e634')\"\n",
              "              title=\"Convert this dataframe to an interactive table.\"\n",
              "              style=\"display:none;\">\n",
              "        \n",
              "  <svg xmlns=\"http://www.w3.org/2000/svg\" height=\"24px\"viewBox=\"0 0 24 24\"\n",
              "       width=\"24px\">\n",
              "    <path d=\"M0 0h24v24H0V0z\" fill=\"none\"/>\n",
              "    <path d=\"M18.56 5.44l.94 2.06.94-2.06 2.06-.94-2.06-.94-.94-2.06-.94 2.06-2.06.94zm-11 1L8.5 8.5l.94-2.06 2.06-.94-2.06-.94L8.5 2.5l-.94 2.06-2.06.94zm10 10l.94 2.06.94-2.06 2.06-.94-2.06-.94-.94-2.06-.94 2.06-2.06.94z\"/><path d=\"M17.41 7.96l-1.37-1.37c-.4-.4-.92-.59-1.43-.59-.52 0-1.04.2-1.43.59L10.3 9.45l-7.72 7.72c-.78.78-.78 2.05 0 2.83L4 21.41c.39.39.9.59 1.41.59.51 0 1.02-.2 1.41-.59l7.78-7.78 2.81-2.81c.8-.78.8-2.07 0-2.86zM5.41 20L4 18.59l7.72-7.72 1.47 1.35L5.41 20z\"/>\n",
              "  </svg>\n",
              "      </button>\n",
              "      \n",
              "  <style>\n",
              "    .colab-df-container {\n",
              "      display:flex;\n",
              "      flex-wrap:wrap;\n",
              "      gap: 12px;\n",
              "    }\n",
              "\n",
              "    .colab-df-convert {\n",
              "      background-color: #E8F0FE;\n",
              "      border: none;\n",
              "      border-radius: 50%;\n",
              "      cursor: pointer;\n",
              "      display: none;\n",
              "      fill: #1967D2;\n",
              "      height: 32px;\n",
              "      padding: 0 0 0 0;\n",
              "      width: 32px;\n",
              "    }\n",
              "\n",
              "    .colab-df-convert:hover {\n",
              "      background-color: #E2EBFA;\n",
              "      box-shadow: 0px 1px 2px rgba(60, 64, 67, 0.3), 0px 1px 3px 1px rgba(60, 64, 67, 0.15);\n",
              "      fill: #174EA6;\n",
              "    }\n",
              "\n",
              "    [theme=dark] .colab-df-convert {\n",
              "      background-color: #3B4455;\n",
              "      fill: #D2E3FC;\n",
              "    }\n",
              "\n",
              "    [theme=dark] .colab-df-convert:hover {\n",
              "      background-color: #434B5C;\n",
              "      box-shadow: 0px 1px 3px 1px rgba(0, 0, 0, 0.15);\n",
              "      filter: drop-shadow(0px 1px 2px rgba(0, 0, 0, 0.3));\n",
              "      fill: #FFFFFF;\n",
              "    }\n",
              "  </style>\n",
              "\n",
              "      <script>\n",
              "        const buttonEl =\n",
              "          document.querySelector('#df-819d8fa3-7851-4296-9075-d3c35337e634 button.colab-df-convert');\n",
              "        buttonEl.style.display =\n",
              "          google.colab.kernel.accessAllowed ? 'block' : 'none';\n",
              "\n",
              "        async function convertToInteractive(key) {\n",
              "          const element = document.querySelector('#df-819d8fa3-7851-4296-9075-d3c35337e634');\n",
              "          const dataTable =\n",
              "            await google.colab.kernel.invokeFunction('convertToInteractive',\n",
              "                                                     [key], {});\n",
              "          if (!dataTable) return;\n",
              "\n",
              "          const docLinkHtml = 'Like what you see? Visit the ' +\n",
              "            '<a target=\"_blank\" href=https://colab.research.google.com/notebooks/data_table.ipynb>data table notebook</a>'\n",
              "            + ' to learn more about interactive tables.';\n",
              "          element.innerHTML = '';\n",
              "          dataTable['output_type'] = 'display_data';\n",
              "          await google.colab.output.renderOutput(dataTable, element);\n",
              "          const docLink = document.createElement('div');\n",
              "          docLink.innerHTML = docLinkHtml;\n",
              "          element.appendChild(docLink);\n",
              "        }\n",
              "      </script>\n",
              "    </div>\n",
              "  </div>\n",
              "  "
            ]
          },
          "metadata": {},
          "execution_count": 1
        }
      ],
      "source": [
        "# Import our dependencies\n",
        "from sklearn.model_selection import train_test_split\n",
        "from sklearn.preprocessing import StandardScaler\n",
        "import pandas as pd\n",
        "import tensorflow as tf\n",
        "\n",
        "#  Import and read the charity_data.csv.\n",
        "import pandas as pd\n",
        "application_df = pd.read_csv(\"https://static.bc-edx.com/data/dl-1-2/m21/lms/starter/charity_data.csv\")\n",
        "application_df.head()"
      ]
    },
    {
      "cell_type": "code",
      "execution_count": 2,
      "metadata": {
        "colab": {
          "base_uri": "https://localhost:8080/",
          "height": 206
        },
        "id": "RFlMzFfhe7Bf",
        "outputId": "1a582980-0d13-4bcd-b4c8-bd7e04a618bd"
      },
      "outputs": [
        {
          "output_type": "execute_result",
          "data": {
            "text/plain": [
              "  APPLICATION_TYPE       AFFILIATION CLASSIFICATION      USE_CASE  \\\n",
              "0              T10       Independent          C1000    ProductDev   \n",
              "1               T3       Independent          C2000  Preservation   \n",
              "2               T5  CompanySponsored          C3000    ProductDev   \n",
              "3               T3  CompanySponsored          C2000  Preservation   \n",
              "4               T3       Independent          C1000     Heathcare   \n",
              "\n",
              "   ORGANIZATION  STATUS     INCOME_AMT SPECIAL_CONSIDERATIONS  ASK_AMT  \\\n",
              "0   Association       1              0                      N     5000   \n",
              "1  Co-operative       1         1-9999                      N   108590   \n",
              "2   Association       1              0                      N     5000   \n",
              "3         Trust       1    10000-24999                      N     6692   \n",
              "4         Trust       1  100000-499999                      N   142590   \n",
              "\n",
              "   IS_SUCCESSFUL  \n",
              "0              1  \n",
              "1              1  \n",
              "2              0  \n",
              "3              1  \n",
              "4              1  "
            ],
            "text/html": [
              "\n",
              "  <div id=\"df-ca069956-6a3a-4586-b300-439cfab330cf\">\n",
              "    <div class=\"colab-df-container\">\n",
              "      <div>\n",
              "<style scoped>\n",
              "    .dataframe tbody tr th:only-of-type {\n",
              "        vertical-align: middle;\n",
              "    }\n",
              "\n",
              "    .dataframe tbody tr th {\n",
              "        vertical-align: top;\n",
              "    }\n",
              "\n",
              "    .dataframe thead th {\n",
              "        text-align: right;\n",
              "    }\n",
              "</style>\n",
              "<table border=\"1\" class=\"dataframe\">\n",
              "  <thead>\n",
              "    <tr style=\"text-align: right;\">\n",
              "      <th></th>\n",
              "      <th>APPLICATION_TYPE</th>\n",
              "      <th>AFFILIATION</th>\n",
              "      <th>CLASSIFICATION</th>\n",
              "      <th>USE_CASE</th>\n",
              "      <th>ORGANIZATION</th>\n",
              "      <th>STATUS</th>\n",
              "      <th>INCOME_AMT</th>\n",
              "      <th>SPECIAL_CONSIDERATIONS</th>\n",
              "      <th>ASK_AMT</th>\n",
              "      <th>IS_SUCCESSFUL</th>\n",
              "    </tr>\n",
              "  </thead>\n",
              "  <tbody>\n",
              "    <tr>\n",
              "      <th>0</th>\n",
              "      <td>T10</td>\n",
              "      <td>Independent</td>\n",
              "      <td>C1000</td>\n",
              "      <td>ProductDev</td>\n",
              "      <td>Association</td>\n",
              "      <td>1</td>\n",
              "      <td>0</td>\n",
              "      <td>N</td>\n",
              "      <td>5000</td>\n",
              "      <td>1</td>\n",
              "    </tr>\n",
              "    <tr>\n",
              "      <th>1</th>\n",
              "      <td>T3</td>\n",
              "      <td>Independent</td>\n",
              "      <td>C2000</td>\n",
              "      <td>Preservation</td>\n",
              "      <td>Co-operative</td>\n",
              "      <td>1</td>\n",
              "      <td>1-9999</td>\n",
              "      <td>N</td>\n",
              "      <td>108590</td>\n",
              "      <td>1</td>\n",
              "    </tr>\n",
              "    <tr>\n",
              "      <th>2</th>\n",
              "      <td>T5</td>\n",
              "      <td>CompanySponsored</td>\n",
              "      <td>C3000</td>\n",
              "      <td>ProductDev</td>\n",
              "      <td>Association</td>\n",
              "      <td>1</td>\n",
              "      <td>0</td>\n",
              "      <td>N</td>\n",
              "      <td>5000</td>\n",
              "      <td>0</td>\n",
              "    </tr>\n",
              "    <tr>\n",
              "      <th>3</th>\n",
              "      <td>T3</td>\n",
              "      <td>CompanySponsored</td>\n",
              "      <td>C2000</td>\n",
              "      <td>Preservation</td>\n",
              "      <td>Trust</td>\n",
              "      <td>1</td>\n",
              "      <td>10000-24999</td>\n",
              "      <td>N</td>\n",
              "      <td>6692</td>\n",
              "      <td>1</td>\n",
              "    </tr>\n",
              "    <tr>\n",
              "      <th>4</th>\n",
              "      <td>T3</td>\n",
              "      <td>Independent</td>\n",
              "      <td>C1000</td>\n",
              "      <td>Heathcare</td>\n",
              "      <td>Trust</td>\n",
              "      <td>1</td>\n",
              "      <td>100000-499999</td>\n",
              "      <td>N</td>\n",
              "      <td>142590</td>\n",
              "      <td>1</td>\n",
              "    </tr>\n",
              "  </tbody>\n",
              "</table>\n",
              "</div>\n",
              "      <button class=\"colab-df-convert\" onclick=\"convertToInteractive('df-ca069956-6a3a-4586-b300-439cfab330cf')\"\n",
              "              title=\"Convert this dataframe to an interactive table.\"\n",
              "              style=\"display:none;\">\n",
              "        \n",
              "  <svg xmlns=\"http://www.w3.org/2000/svg\" height=\"24px\"viewBox=\"0 0 24 24\"\n",
              "       width=\"24px\">\n",
              "    <path d=\"M0 0h24v24H0V0z\" fill=\"none\"/>\n",
              "    <path d=\"M18.56 5.44l.94 2.06.94-2.06 2.06-.94-2.06-.94-.94-2.06-.94 2.06-2.06.94zm-11 1L8.5 8.5l.94-2.06 2.06-.94-2.06-.94L8.5 2.5l-.94 2.06-2.06.94zm10 10l.94 2.06.94-2.06 2.06-.94-2.06-.94-.94-2.06-.94 2.06-2.06.94z\"/><path d=\"M17.41 7.96l-1.37-1.37c-.4-.4-.92-.59-1.43-.59-.52 0-1.04.2-1.43.59L10.3 9.45l-7.72 7.72c-.78.78-.78 2.05 0 2.83L4 21.41c.39.39.9.59 1.41.59.51 0 1.02-.2 1.41-.59l7.78-7.78 2.81-2.81c.8-.78.8-2.07 0-2.86zM5.41 20L4 18.59l7.72-7.72 1.47 1.35L5.41 20z\"/>\n",
              "  </svg>\n",
              "      </button>\n",
              "      \n",
              "  <style>\n",
              "    .colab-df-container {\n",
              "      display:flex;\n",
              "      flex-wrap:wrap;\n",
              "      gap: 12px;\n",
              "    }\n",
              "\n",
              "    .colab-df-convert {\n",
              "      background-color: #E8F0FE;\n",
              "      border: none;\n",
              "      border-radius: 50%;\n",
              "      cursor: pointer;\n",
              "      display: none;\n",
              "      fill: #1967D2;\n",
              "      height: 32px;\n",
              "      padding: 0 0 0 0;\n",
              "      width: 32px;\n",
              "    }\n",
              "\n",
              "    .colab-df-convert:hover {\n",
              "      background-color: #E2EBFA;\n",
              "      box-shadow: 0px 1px 2px rgba(60, 64, 67, 0.3), 0px 1px 3px 1px rgba(60, 64, 67, 0.15);\n",
              "      fill: #174EA6;\n",
              "    }\n",
              "\n",
              "    [theme=dark] .colab-df-convert {\n",
              "      background-color: #3B4455;\n",
              "      fill: #D2E3FC;\n",
              "    }\n",
              "\n",
              "    [theme=dark] .colab-df-convert:hover {\n",
              "      background-color: #434B5C;\n",
              "      box-shadow: 0px 1px 3px 1px rgba(0, 0, 0, 0.15);\n",
              "      filter: drop-shadow(0px 1px 2px rgba(0, 0, 0, 0.3));\n",
              "      fill: #FFFFFF;\n",
              "    }\n",
              "  </style>\n",
              "\n",
              "      <script>\n",
              "        const buttonEl =\n",
              "          document.querySelector('#df-ca069956-6a3a-4586-b300-439cfab330cf button.colab-df-convert');\n",
              "        buttonEl.style.display =\n",
              "          google.colab.kernel.accessAllowed ? 'block' : 'none';\n",
              "\n",
              "        async function convertToInteractive(key) {\n",
              "          const element = document.querySelector('#df-ca069956-6a3a-4586-b300-439cfab330cf');\n",
              "          const dataTable =\n",
              "            await google.colab.kernel.invokeFunction('convertToInteractive',\n",
              "                                                     [key], {});\n",
              "          if (!dataTable) return;\n",
              "\n",
              "          const docLinkHtml = 'Like what you see? Visit the ' +\n",
              "            '<a target=\"_blank\" href=https://colab.research.google.com/notebooks/data_table.ipynb>data table notebook</a>'\n",
              "            + ' to learn more about interactive tables.';\n",
              "          element.innerHTML = '';\n",
              "          dataTable['output_type'] = 'display_data';\n",
              "          await google.colab.output.renderOutput(dataTable, element);\n",
              "          const docLink = document.createElement('div');\n",
              "          docLink.innerHTML = docLinkHtml;\n",
              "          element.appendChild(docLink);\n",
              "        }\n",
              "      </script>\n",
              "    </div>\n",
              "  </div>\n",
              "  "
            ]
          },
          "metadata": {},
          "execution_count": 2
        }
      ],
      "source": [
        "# Drop the non-beneficial ID columns, 'EIN' and 'NAME'.\n",
        "\n",
        "new_application_df = application_df.drop([\"EIN\", \"NAME\"], axis=1)\n",
        "new_application_df[:5]"
      ]
    },
    {
      "cell_type": "code",
      "execution_count": 3,
      "metadata": {
        "colab": {
          "base_uri": "https://localhost:8080/"
        },
        "id": "ySw1O6sIe7Bg",
        "outputId": "75ef9991-6f4c-4018-b73a-422debdc066c"
      },
      "outputs": [
        {
          "output_type": "stream",
          "name": "stdout",
          "text": [
            "APPLICATION_TYPE            17\n",
            "AFFILIATION                  6\n",
            "CLASSIFICATION              71\n",
            "USE_CASE                     5\n",
            "ORGANIZATION                 4\n",
            "STATUS                       2\n",
            "INCOME_AMT                   9\n",
            "SPECIAL_CONSIDERATIONS       2\n",
            "ASK_AMT                   8747\n",
            "IS_SUCCESSFUL                2\n",
            "dtype: int64\n"
          ]
        }
      ],
      "source": [
        "# Determine the number of unique values in each column.\n",
        "unique_application = new_application_df.nunique()\n",
        "print(unique_application)"
      ]
    },
    {
      "cell_type": "code",
      "execution_count": 4,
      "metadata": {
        "id": "-bvU5l1Ae7Bg"
      },
      "outputs": [],
      "source": [
        "# Look at APPLICATION_TYPE value counts for binning\n",
        "application_type_counts = new_application_df['APPLICATION_TYPE'].value_counts()\n",
        "\n"
      ]
    },
    {
      "cell_type": "code",
      "execution_count": 5,
      "metadata": {
        "colab": {
          "base_uri": "https://localhost:8080/"
        },
        "id": "Al7Iu87ue7Bg",
        "outputId": "088fde77-3a35-4539-d7ff-0a6dc6350918"
      },
      "outputs": [
        {
          "output_type": "execute_result",
          "data": {
            "text/plain": [
              "T3       27037\n",
              "T4        1542\n",
              "T6        1216\n",
              "T5        1173\n",
              "T19       1065\n",
              "T8         737\n",
              "T7         725\n",
              "T10        528\n",
              "Other      276\n",
              "Name: APPLICATION_TYPE, dtype: int64"
            ]
          },
          "metadata": {},
          "execution_count": 5
        }
      ],
      "source": [
        "# Choose a cutoff value and create a list of application types to be replaced\n",
        "# use the variable name `application_types_to_replace`\n",
        "cutoff = 200\n",
        "application_types_to_replace = application_type_counts[application_type_counts <= cutoff].index.tolist()\n",
        "\n",
        "\n",
        "# Replace in dataframe\n",
        "for app in application_types_to_replace:\n",
        "    application_df['APPLICATION_TYPE'] = application_df['APPLICATION_TYPE'].replace(app,\"Other\")\n",
        "\n",
        "# Check to make sure binning was successful\n",
        "application_df['APPLICATION_TYPE'].value_counts()"
      ]
    },
    {
      "cell_type": "code",
      "execution_count": 6,
      "metadata": {
        "id": "zYdFk4Mqe7Bh"
      },
      "outputs": [],
      "source": [
        "# Look at CLASSIFICATION value counts for binning\n",
        "classification_counts = application_df['CLASSIFICATION'].value_counts()\n"
      ]
    },
    {
      "cell_type": "code",
      "execution_count": 7,
      "metadata": {
        "id": "E9lVloe0e7Bh"
      },
      "outputs": [],
      "source": [
        "# You may find it helpful to look at CLASSIFICATION value counts >1\n",
        "new_classification= classification_counts[classification_counts>1]\n"
      ]
    },
    {
      "cell_type": "code",
      "execution_count": 8,
      "metadata": {
        "colab": {
          "base_uri": "https://localhost:8080/"
        },
        "id": "LLV3UppEe7Bh",
        "outputId": "07d8ae97-cf37-4272-fe51-bda78f300170"
      },
      "outputs": [
        {
          "output_type": "execute_result",
          "data": {
            "text/plain": [
              "C1000    17326\n",
              "C2000     6074\n",
              "C1200     4837\n",
              "Other     2261\n",
              "C3000     1918\n",
              "C2100     1883\n",
              "Name: CLASSIFICATION, dtype: int64"
            ]
          },
          "metadata": {},
          "execution_count": 8
        }
      ],
      "source": [
        "# Choose a cutoff value and create a list of classifications to be replaced\n",
        "# use the variable name `classifications_to_replace`\n",
        "classifications_cutoff = 1000\n",
        "classifications_to_replace = classification_counts[classification_counts <= classifications_cutoff].index.tolist()\n",
        "\n",
        "\n",
        "\n",
        "# Replace in dataframe\n",
        "for cls in classifications_to_replace:\n",
        "    application_df['CLASSIFICATION'] = application_df['CLASSIFICATION'].replace(cls,\"Other\")\n",
        "\n",
        "# Check to make sure binning was successful\n",
        "application_df['CLASSIFICATION'].value_counts()"
      ]
    },
    {
      "cell_type": "code",
      "execution_count": 9,
      "metadata": {
        "id": "z6W_5F6pe7Bi"
      },
      "outputs": [],
      "source": [
        "# Convert categorical data to numeric with `pd.get_dummies`\n",
        "coverted_df= pd.get_dummies(application_df)\n"
      ]
    },
    {
      "cell_type": "code",
      "execution_count": 10,
      "metadata": {
        "id": "78FMBel6e7Bi"
      },
      "outputs": [],
      "source": [
        "# Split our preprocessed data into our features and target arrays\n",
        "#from sklearn.model_selection import train_test_split\n",
        "sample_size = int(len(coverted_df) * 0.5)  # 50% of the original dataset as I run out of RAM\n",
        "sample_df = coverted_df[:sample_size]\n",
        "\n",
        "\n",
        "# Split the preprocessed data into features and target arrays\n",
        "X = sample_df.drop('IS_SUCCESSFUL', axis=1).values\n",
        "y = sample_df['IS_SUCCESSFUL'].values\n",
        "\n",
        "\n",
        "# Split the preprocessed data into a training and testing dataset\n",
        "\n",
        "X_train, X_test, y_train, y_test = train_test_split(X, y, test_size=0.5, random_state=42)\n",
        "\n"
      ]
    },
    {
      "cell_type": "code",
      "execution_count": 11,
      "metadata": {
        "id": "ji4KJ9Q0e7Bi"
      },
      "outputs": [],
      "source": [
        "# Create a StandardScaler instances\n",
        "scaler = StandardScaler()\n",
        "\n",
        "# Fit the StandardScaler\n",
        "X_scaler = scaler.fit(X_train)\n",
        "\n",
        "# Scale the data\n",
        "X_train_scaled = X_scaler.transform(X_train)\n",
        "X_test_scaled = X_scaler.transform(X_test)"
      ]
    },
    {
      "cell_type": "markdown",
      "metadata": {
        "id": "wlQEkAkYe7Bj"
      },
      "source": [
        "## Compile, Train and Evaluate the Model"
      ]
    },
    {
      "cell_type": "code",
      "execution_count": 12,
      "metadata": {
        "colab": {
          "base_uri": "https://localhost:8080/"
        },
        "id": "179uo124e7Bj",
        "outputId": "66d039ab-26c2-4ae6-b1ad-cdfa2c4feba3"
      },
      "outputs": [
        {
          "output_type": "stream",
          "name": "stdout",
          "text": [
            "Model: \"sequential\"\n",
            "_________________________________________________________________\n",
            " Layer (type)                Output Shape              Param #   \n",
            "=================================================================\n",
            " dense (Dense)               (None, 80)                1569040   \n",
            "                                                                 \n",
            " dense_1 (Dense)             (None, 30)                2430      \n",
            "                                                                 \n",
            " dense_2 (Dense)             (None, 1)                 31        \n",
            "                                                                 \n",
            "=================================================================\n",
            "Total params: 1,571,501\n",
            "Trainable params: 1,571,501\n",
            "Non-trainable params: 0\n",
            "_________________________________________________________________\n"
          ]
        }
      ],
      "source": [
        "# Define the model - deep neural net, i.e., the number of input features and hidden nodes for each layer.\n",
        "nn = tf.keras.models.Sequential()\n",
        "\n",
        "# First hidden layer\n",
        "nn.add(tf.keras.layers.Dense(units=80, activation=\"relu\", input_dim=X_train.shape[1]))\n",
        "\n",
        "# Second hidden layer\n",
        "nn.add(tf.keras.layers.Dense(units=30, activation=\"sigmoid\"))\n",
        "\n",
        "# Output layer\n",
        "nn.add(tf.keras.layers.Dense(units=1, activation=\"sigmoid\"))\n",
        "\n",
        "# Check the structure of the model\n",
        "nn.summary()\n",
        "\n"
      ]
    },
    {
      "cell_type": "code",
      "execution_count": 13,
      "metadata": {
        "id": "7w7RXu5ve7Bj"
      },
      "outputs": [],
      "source": [
        "# Compile the model\n",
        "nn.compile(loss=\"binary_crossentropy\", optimizer=\"adam\", metrics=[\"accuracy\"])\n"
      ]
    },
    {
      "cell_type": "code",
      "source": [
        "print(X_train_scaled.shape)\n",
        "print(X_test_scaled.shape)\n"
      ],
      "metadata": {
        "colab": {
          "base_uri": "https://localhost:8080/"
        },
        "id": "7Iwr3AruZssC",
        "outputId": "824f69f2-1c30-4592-9eae-1ea337f2d8c5"
      },
      "execution_count": 14,
      "outputs": [
        {
          "output_type": "stream",
          "name": "stdout",
          "text": [
            "(8574, 19612)\n",
            "(8575, 19612)\n"
          ]
        }
      ]
    },
    {
      "cell_type": "code",
      "execution_count": 15,
      "metadata": {
        "colab": {
          "base_uri": "https://localhost:8080/"
        },
        "id": "hA7urj2Ze7Bj",
        "outputId": "3da9573a-0595-4d4c-fbda-30a47692920a"
      },
      "outputs": [
        {
          "output_type": "stream",
          "name": "stdout",
          "text": [
            "Epoch 1/100\n",
            "268/268 [==============================] - 8s 25ms/step - loss: 0.5418 - accuracy: 0.7259\n",
            "Epoch 2/100\n",
            "268/268 [==============================] - 7s 28ms/step - loss: 0.1647 - accuracy: 0.9547\n",
            "Epoch 3/100\n",
            "268/268 [==============================] - 6s 24ms/step - loss: 0.0899 - accuracy: 0.9697\n",
            "Epoch 4/100\n",
            "268/268 [==============================] - 8s 28ms/step - loss: 0.0822 - accuracy: 0.9700\n",
            "Epoch 5/100\n",
            "268/268 [==============================] - 7s 25ms/step - loss: 0.0773 - accuracy: 0.9711\n",
            "Epoch 6/100\n",
            "268/268 [==============================] - 7s 27ms/step - loss: 0.0739 - accuracy: 0.9715\n",
            "Epoch 7/100\n",
            "268/268 [==============================] - 8s 32ms/step - loss: 0.0711 - accuracy: 0.9713\n",
            "Epoch 8/100\n",
            "268/268 [==============================] - 6s 24ms/step - loss: 0.0699 - accuracy: 0.9714\n",
            "Epoch 9/100\n",
            "268/268 [==============================] - 7s 28ms/step - loss: 0.0692 - accuracy: 0.9726\n",
            "Epoch 10/100\n",
            "268/268 [==============================] - 7s 25ms/step - loss: 0.0679 - accuracy: 0.9731\n",
            "Epoch 11/100\n",
            "268/268 [==============================] - 7s 28ms/step - loss: 0.0670 - accuracy: 0.9724\n",
            "Epoch 12/100\n",
            "268/268 [==============================] - 6s 24ms/step - loss: 0.0658 - accuracy: 0.9739\n",
            "Epoch 13/100\n",
            "268/268 [==============================] - 7s 26ms/step - loss: 0.0650 - accuracy: 0.9734\n",
            "Epoch 14/100\n",
            "268/268 [==============================] - 6s 23ms/step - loss: 0.0650 - accuracy: 0.9735\n",
            "Epoch 15/100\n",
            "268/268 [==============================] - 7s 27ms/step - loss: 0.0639 - accuracy: 0.9740\n",
            "Epoch 16/100\n",
            "268/268 [==============================] - 7s 24ms/step - loss: 0.0636 - accuracy: 0.9746\n",
            "Epoch 17/100\n",
            "268/268 [==============================] - 8s 28ms/step - loss: 0.0628 - accuracy: 0.9746\n",
            "Epoch 18/100\n",
            "268/268 [==============================] - 7s 24ms/step - loss: 0.0632 - accuracy: 0.9742\n",
            "Epoch 19/100\n",
            "268/268 [==============================] - 8s 28ms/step - loss: 0.0621 - accuracy: 0.9746\n",
            "Epoch 20/100\n",
            "268/268 [==============================] - 7s 27ms/step - loss: 0.0613 - accuracy: 0.9753\n",
            "Epoch 21/100\n",
            "268/268 [==============================] - 7s 25ms/step - loss: 0.0611 - accuracy: 0.9754\n",
            "Epoch 22/100\n",
            "268/268 [==============================] - 7s 27ms/step - loss: 0.0608 - accuracy: 0.9754\n",
            "Epoch 23/100\n",
            "268/268 [==============================] - 7s 25ms/step - loss: 0.0601 - accuracy: 0.9754\n",
            "Epoch 24/100\n",
            "268/268 [==============================] - 7s 28ms/step - loss: 0.0597 - accuracy: 0.9766\n",
            "Epoch 25/100\n",
            "268/268 [==============================] - 7s 25ms/step - loss: 0.0601 - accuracy: 0.9755\n",
            "Epoch 26/100\n",
            "268/268 [==============================] - 8s 29ms/step - loss: 0.0596 - accuracy: 0.9761\n",
            "Epoch 27/100\n",
            "268/268 [==============================] - 7s 25ms/step - loss: 0.0588 - accuracy: 0.9763\n",
            "Epoch 28/100\n",
            "268/268 [==============================] - 8s 28ms/step - loss: 0.0590 - accuracy: 0.9766\n",
            "Epoch 29/100\n",
            "268/268 [==============================] - 7s 25ms/step - loss: 0.0584 - accuracy: 0.9769\n",
            "Epoch 30/100\n",
            "268/268 [==============================] - 8s 28ms/step - loss: 0.0588 - accuracy: 0.9769\n",
            "Epoch 31/100\n",
            "268/268 [==============================] - 7s 25ms/step - loss: 0.0578 - accuracy: 0.9770\n",
            "Epoch 32/100\n",
            "268/268 [==============================] - 7s 27ms/step - loss: 0.0576 - accuracy: 0.9762\n",
            "Epoch 33/100\n",
            "268/268 [==============================] - 7s 26ms/step - loss: 0.0577 - accuracy: 0.9769\n",
            "Epoch 34/100\n",
            "268/268 [==============================] - 8s 30ms/step - loss: 0.0575 - accuracy: 0.9761\n",
            "Epoch 35/100\n",
            "268/268 [==============================] - 8s 28ms/step - loss: 0.0567 - accuracy: 0.9778\n",
            "Epoch 36/100\n",
            "268/268 [==============================] - 6s 23ms/step - loss: 0.0570 - accuracy: 0.9764\n",
            "Epoch 37/100\n",
            "268/268 [==============================] - 8s 28ms/step - loss: 0.0563 - accuracy: 0.9770\n",
            "Epoch 38/100\n",
            "268/268 [==============================] - 7s 24ms/step - loss: 0.0568 - accuracy: 0.9757\n",
            "Epoch 39/100\n",
            "268/268 [==============================] - 8s 28ms/step - loss: 0.0563 - accuracy: 0.9773\n",
            "Epoch 40/100\n",
            "268/268 [==============================] - 7s 25ms/step - loss: 0.0561 - accuracy: 0.9778\n",
            "Epoch 41/100\n",
            "268/268 [==============================] - 8s 28ms/step - loss: 0.0557 - accuracy: 0.9781\n",
            "Epoch 42/100\n",
            "268/268 [==============================] - 7s 26ms/step - loss: 0.0557 - accuracy: 0.9781\n",
            "Epoch 43/100\n",
            "268/268 [==============================] - 7s 27ms/step - loss: 0.0550 - accuracy: 0.9782\n",
            "Epoch 44/100\n",
            "268/268 [==============================] - 8s 28ms/step - loss: 0.0552 - accuracy: 0.9771\n",
            "Epoch 45/100\n",
            "268/268 [==============================] - 7s 24ms/step - loss: 0.0545 - accuracy: 0.9788\n",
            "Epoch 46/100\n",
            "268/268 [==============================] - 8s 28ms/step - loss: 0.0550 - accuracy: 0.9777\n",
            "Epoch 47/100\n",
            "268/268 [==============================] - 7s 25ms/step - loss: 0.0550 - accuracy: 0.9784\n",
            "Epoch 48/100\n",
            "268/268 [==============================] - 8s 28ms/step - loss: 0.0544 - accuracy: 0.9782\n",
            "Epoch 49/100\n",
            "268/268 [==============================] - 7s 25ms/step - loss: 0.0551 - accuracy: 0.9773\n",
            "Epoch 50/100\n",
            "268/268 [==============================] - 8s 28ms/step - loss: 0.0547 - accuracy: 0.9770\n",
            "Epoch 51/100\n",
            "268/268 [==============================] - 7s 24ms/step - loss: 0.0539 - accuracy: 0.9785\n",
            "Epoch 52/100\n",
            "268/268 [==============================] - 7s 26ms/step - loss: 0.0551 - accuracy: 0.9787\n",
            "Epoch 53/100\n",
            "268/268 [==============================] - 7s 25ms/step - loss: 0.0534 - accuracy: 0.9783\n",
            "Epoch 54/100\n",
            "268/268 [==============================] - 7s 27ms/step - loss: 0.0539 - accuracy: 0.9783\n",
            "Epoch 55/100\n",
            "268/268 [==============================] - 7s 25ms/step - loss: 0.0528 - accuracy: 0.9789\n",
            "Epoch 56/100\n",
            "268/268 [==============================] - 7s 26ms/step - loss: 0.0534 - accuracy: 0.9788\n",
            "Epoch 57/100\n",
            "268/268 [==============================] - 7s 27ms/step - loss: 0.0533 - accuracy: 0.9781\n",
            "Epoch 58/100\n",
            "268/268 [==============================] - 7s 25ms/step - loss: 0.0528 - accuracy: 0.9795\n",
            "Epoch 59/100\n",
            "268/268 [==============================] - 8s 28ms/step - loss: 0.0531 - accuracy: 0.9787\n",
            "Epoch 60/100\n",
            "268/268 [==============================] - 6s 24ms/step - loss: 0.0529 - accuracy: 0.9783\n",
            "Epoch 61/100\n",
            "268/268 [==============================] - 8s 28ms/step - loss: 0.0530 - accuracy: 0.9790\n",
            "Epoch 62/100\n",
            "268/268 [==============================] - 7s 24ms/step - loss: 0.0529 - accuracy: 0.9785\n",
            "Epoch 63/100\n",
            "268/268 [==============================] - 7s 27ms/step - loss: 0.0526 - accuracy: 0.9790\n",
            "Epoch 64/100\n",
            "268/268 [==============================] - 6s 22ms/step - loss: 0.0528 - accuracy: 0.9790\n",
            "Epoch 65/100\n",
            "268/268 [==============================] - 7s 27ms/step - loss: 0.0525 - accuracy: 0.9787\n",
            "Epoch 66/100\n",
            "268/268 [==============================] - 6s 23ms/step - loss: 0.0524 - accuracy: 0.9789\n",
            "Epoch 67/100\n",
            "268/268 [==============================] - 8s 31ms/step - loss: 0.0525 - accuracy: 0.9791\n",
            "Epoch 68/100\n",
            "268/268 [==============================] - 6s 23ms/step - loss: 0.0526 - accuracy: 0.9785\n",
            "Epoch 69/100\n",
            "268/268 [==============================] - 7s 27ms/step - loss: 0.0523 - accuracy: 0.9784\n",
            "Epoch 70/100\n",
            "268/268 [==============================] - 6s 23ms/step - loss: 0.0523 - accuracy: 0.9789\n",
            "Epoch 71/100\n",
            "268/268 [==============================] - 7s 27ms/step - loss: 0.0518 - accuracy: 0.9792\n",
            "Epoch 72/100\n",
            "268/268 [==============================] - 6s 23ms/step - loss: 0.0521 - accuracy: 0.9791\n",
            "Epoch 73/100\n",
            "268/268 [==============================] - 7s 27ms/step - loss: 0.0520 - accuracy: 0.9788\n",
            "Epoch 74/100\n",
            "268/268 [==============================] - 6s 23ms/step - loss: 0.0516 - accuracy: 0.9796\n",
            "Epoch 75/100\n",
            "268/268 [==============================] - 7s 27ms/step - loss: 0.0521 - accuracy: 0.9790\n",
            "Epoch 76/100\n",
            "268/268 [==============================] - 6s 23ms/step - loss: 0.0517 - accuracy: 0.9791\n",
            "Epoch 77/100\n",
            "268/268 [==============================] - 7s 26ms/step - loss: 0.0522 - accuracy: 0.9787\n",
            "Epoch 78/100\n",
            "268/268 [==============================] - 6s 23ms/step - loss: 0.0520 - accuracy: 0.9796\n",
            "Epoch 79/100\n",
            "268/268 [==============================] - 7s 26ms/step - loss: 0.0515 - accuracy: 0.9790\n",
            "Epoch 80/100\n",
            "268/268 [==============================] - 6s 23ms/step - loss: 0.0517 - accuracy: 0.9791\n",
            "Epoch 81/100\n",
            "268/268 [==============================] - 7s 27ms/step - loss: 0.0517 - accuracy: 0.9796\n",
            "Epoch 82/100\n",
            "268/268 [==============================] - 6s 22ms/step - loss: 0.0518 - accuracy: 0.9792\n",
            "Epoch 83/100\n",
            "268/268 [==============================] - 7s 25ms/step - loss: 0.0517 - accuracy: 0.9792\n",
            "Epoch 84/100\n",
            "268/268 [==============================] - 6s 21ms/step - loss: 0.0511 - accuracy: 0.9797\n",
            "Epoch 85/100\n",
            "268/268 [==============================] - 7s 25ms/step - loss: 0.0513 - accuracy: 0.9792\n",
            "Epoch 86/100\n",
            "268/268 [==============================] - 6s 21ms/step - loss: 0.0515 - accuracy: 0.9792\n",
            "Epoch 87/100\n",
            "268/268 [==============================] - 7s 25ms/step - loss: 0.0515 - accuracy: 0.9797\n",
            "Epoch 88/100\n",
            "268/268 [==============================] - 6s 23ms/step - loss: 0.0516 - accuracy: 0.9788\n",
            "Epoch 89/100\n",
            "268/268 [==============================] - 7s 26ms/step - loss: 0.0529 - accuracy: 0.9794\n",
            "Epoch 90/100\n",
            "268/268 [==============================] - 6s 23ms/step - loss: 0.0515 - accuracy: 0.9796\n",
            "Epoch 91/100\n",
            "268/268 [==============================] - 7s 25ms/step - loss: 0.0510 - accuracy: 0.9794\n",
            "Epoch 92/100\n",
            "268/268 [==============================] - 6s 21ms/step - loss: 0.0507 - accuracy: 0.9798\n",
            "Epoch 93/100\n",
            "268/268 [==============================] - 7s 25ms/step - loss: 0.0509 - accuracy: 0.9798\n",
            "Epoch 94/100\n",
            "268/268 [==============================] - 6s 23ms/step - loss: 0.0506 - accuracy: 0.9796\n",
            "Epoch 95/100\n",
            "268/268 [==============================] - 7s 27ms/step - loss: 0.0509 - accuracy: 0.9792\n",
            "Epoch 96/100\n",
            "268/268 [==============================] - 6s 23ms/step - loss: 0.0509 - accuracy: 0.9794\n",
            "Epoch 97/100\n",
            "268/268 [==============================] - 7s 27ms/step - loss: 0.0507 - accuracy: 0.9797\n",
            "Epoch 98/100\n",
            "268/268 [==============================] - 6s 23ms/step - loss: 0.0505 - accuracy: 0.9798\n",
            "Epoch 99/100\n",
            "268/268 [==============================] - 7s 27ms/step - loss: 0.0508 - accuracy: 0.9803\n",
            "Epoch 100/100\n",
            "268/268 [==============================] - 6s 23ms/step - loss: 0.0514 - accuracy: 0.9795\n"
          ]
        }
      ],
      "source": [
        "# Train the model\n",
        "fit_model = nn.fit(X_train_scaled, y_train, epochs=100)\n",
        "\n"
      ]
    },
    {
      "cell_type": "code",
      "execution_count": 16,
      "metadata": {
        "colab": {
          "base_uri": "https://localhost:8080/"
        },
        "id": "k7jE6i4be7Bj",
        "outputId": "4c8b6bed-f6ad-4621-a86d-91441ef9cbe7"
      },
      "outputs": [
        {
          "output_type": "stream",
          "name": "stdout",
          "text": [
            "268/268 - 1s - loss: 0.6735 - accuracy: 0.7005 - 1s/epoch - 5ms/step\n",
            "Loss: 0.6735178232192993, Accuracy: 0.7005248069763184\n"
          ]
        }
      ],
      "source": [
        "# Evaluate the model using the test data\n",
        "model_loss, model_accuracy = nn.evaluate(X_test_scaled,y_test,verbose=2)\n",
        "print(f\"Loss: {model_loss}, Accuracy: {model_accuracy}\")"
      ]
    },
    {
      "cell_type": "code",
      "source": [
        "model_history = pd.DataFrame(fit_model.history, index= range(1, len(fit_model.history['loss'])+1 ))\n",
        "model_history.plot(y = \"accuracy\")"
      ],
      "metadata": {
        "colab": {
          "base_uri": "https://localhost:8080/",
          "height": 447
        },
        "id": "iZvgBdUx4nZ5",
        "outputId": "f995fbbe-b799-4600-83b8-2a5086c1d7a2"
      },
      "execution_count": 17,
      "outputs": [
        {
          "output_type": "execute_result",
          "data": {
            "text/plain": [
              "<Axes: >"
            ]
          },
          "metadata": {},
          "execution_count": 17
        },
        {
          "output_type": "display_data",
          "data": {
            "text/plain": [
              "<Figure size 640x480 with 1 Axes>"
            ],
            "image/png": "[encoded data removed]"
          },
          "metadata": {}
        }
      ]
    },
    {
      "cell_type": "code",
      "execution_count": 18,
      "metadata": {
        "id": "i-DO_yefe7Bj"
      },
      "outputs": [],
      "source": [
        "# Export our model to HDF5 file\n",
        "nn.save(\"../AlphabetSoupCharity.h5\")\n"
      ]
    }
  ],
  "metadata": {
    "kernelspec": {
      "display_name": "Python 3",
      "language": "python",
      "name": "python3"
    },
    "language_info": {
      "codemirror_mode": {
        "name": "ipython",
        "version": 3
      },
      "file_extension": ".py",
      "mimetype": "text/x-python",
      "name": "python",
      "nbconvert_exporter": "python",
      "pygments_lexer": "ipython3",
      "version": "3.-1.-1"
    },
    "vscode": {
      "interpreter": {
        "hash": "31f2aee4e71d21fbe5cf8b01ff0e069b9275f58929596ceb00d14d90e3e16cd6"
      }
    },
    "colab": {
      "provenance": []
    }
  },
  "nbformat": 4,
  "nbformat_minor": 0
}