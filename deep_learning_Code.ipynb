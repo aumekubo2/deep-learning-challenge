{
  "cells": [
    {
      "cell_type": "markdown",
      "metadata": {
<<<<<<< HEAD
=======
        "id": "view-in-github",
        "colab_type": "text"
      },
      "source": [
        "<a href=\"https://colab.research.google.com/github/aumekubo2/deep-learning-challenge/blob/main/deep_learning_Code.ipynb\" target=\"_parent\"><img src=\"https://colab.research.google.com/assets/colab-badge.svg\" alt=\"Open In Colab\"/></a>"
      ]
    },
    {
      "cell_type": "markdown",
      "metadata": {
>>>>>>> eaf105bd64dba7d6bbf7e218f78c87c783f5b0dc
        "id": "GXIT8Jo2e7Bb"
      },
      "source": [
        "## Preprocessing"
      ]
    },
    {
      "cell_type": "code",
      "execution_count": 1,
      "metadata": {
        "colab": {
          "base_uri": "https://localhost:8080/",
          "height": 206
        },
        "id": "iMIPyJXQe7Be",
<<<<<<< HEAD
        "outputId": "8a5a923e-3323-431f-be2c-8f377fc4cc7a"
=======
        "outputId": "94bf34b9-ef45-406e-87fd-d4f9b437d831"
>>>>>>> eaf105bd64dba7d6bbf7e218f78c87c783f5b0dc
      },
      "outputs": [
        {
          "output_type": "execute_result",
          "data": {
            "text/plain": [
              "        EIN                                      NAME APPLICATION_TYPE  \\\n",
              "0  10520599              BLUE KNIGHTS MOTORCYCLE CLUB              T10   \n",
              "1  10531628    AMERICAN CHESAPEAKE CLUB CHARITABLE TR               T3   \n",
              "2  10547893        ST CLOUD PROFESSIONAL FIREFIGHTERS               T5   \n",
              "3  10553066            SOUTHSIDE ATHLETIC ASSOCIATION               T3   \n",
              "4  10556103  GENETIC RESEARCH INSTITUTE OF THE DESERT               T3   \n",
              "\n",
              "        AFFILIATION CLASSIFICATION      USE_CASE  ORGANIZATION  STATUS  \\\n",
              "0       Independent          C1000    ProductDev   Association       1   \n",
              "1       Independent          C2000  Preservation  Co-operative       1   \n",
              "2  CompanySponsored          C3000    ProductDev   Association       1   \n",
              "3  CompanySponsored          C2000  Preservation         Trust       1   \n",
              "4       Independent          C1000     Heathcare         Trust       1   \n",
              "\n",
              "      INCOME_AMT SPECIAL_CONSIDERATIONS  ASK_AMT  IS_SUCCESSFUL  \n",
              "0              0                      N     5000              1  \n",
              "1         1-9999                      N   108590              1  \n",
              "2              0                      N     5000              0  \n",
              "3    10000-24999                      N     6692              1  \n",
              "4  100000-499999                      N   142590              1  "
            ],
            "text/html": [
              "\n",
<<<<<<< HEAD
              "  <div id=\"df-092114fc-7579-400c-acde-aba43450c90f\">\n",
=======
              "  <div id=\"df-04941fb6-3b7c-45d8-a445-249a68fef2fd\">\n",
>>>>>>> eaf105bd64dba7d6bbf7e218f78c87c783f5b0dc
              "    <div class=\"colab-df-container\">\n",
              "      <div>\n",
              "<style scoped>\n",
              "    .dataframe tbody tr th:only-of-type {\n",
              "        vertical-align: middle;\n",
              "    }\n",
              "\n",
              "    .dataframe tbody tr th {\n",
              "        vertical-align: top;\n",
              "    }\n",
              "\n",
              "    .dataframe thead th {\n",
              "        text-align: right;\n",
              "    }\n",
              "</style>\n",
              "<table border=\"1\" class=\"dataframe\">\n",
              "  <thead>\n",
              "    <tr style=\"text-align: right;\">\n",
              "      <th></th>\n",
              "      <th>EIN</th>\n",
              "      <th>NAME</th>\n",
              "      <th>APPLICATION_TYPE</th>\n",
              "      <th>AFFILIATION</th>\n",
              "      <th>CLASSIFICATION</th>\n",
              "      <th>USE_CASE</th>\n",
              "      <th>ORGANIZATION</th>\n",
              "      <th>STATUS</th>\n",
              "      <th>INCOME_AMT</th>\n",
              "      <th>SPECIAL_CONSIDERATIONS</th>\n",
              "      <th>ASK_AMT</th>\n",
              "      <th>IS_SUCCESSFUL</th>\n",
              "    </tr>\n",
              "  </thead>\n",
              "  <tbody>\n",
              "    <tr>\n",
              "      <th>0</th>\n",
              "      <td>10520599</td>\n",
              "      <td>BLUE KNIGHTS MOTORCYCLE CLUB</td>\n",
              "      <td>T10</td>\n",
              "      <td>Independent</td>\n",
              "      <td>C1000</td>\n",
              "      <td>ProductDev</td>\n",
              "      <td>Association</td>\n",
              "      <td>1</td>\n",
              "      <td>0</td>\n",
              "      <td>N</td>\n",
              "      <td>5000</td>\n",
              "      <td>1</td>\n",
              "    </tr>\n",
              "    <tr>\n",
              "      <th>1</th>\n",
              "      <td>10531628</td>\n",
              "      <td>AMERICAN CHESAPEAKE CLUB CHARITABLE TR</td>\n",
              "      <td>T3</td>\n",
              "      <td>Independent</td>\n",
              "      <td>C2000</td>\n",
              "      <td>Preservation</td>\n",
              "      <td>Co-operative</td>\n",
              "      <td>1</td>\n",
              "      <td>1-9999</td>\n",
              "      <td>N</td>\n",
              "      <td>108590</td>\n",
              "      <td>1</td>\n",
              "    </tr>\n",
              "    <tr>\n",
              "      <th>2</th>\n",
              "      <td>10547893</td>\n",
              "      <td>ST CLOUD PROFESSIONAL FIREFIGHTERS</td>\n",
              "      <td>T5</td>\n",
              "      <td>CompanySponsored</td>\n",
              "      <td>C3000</td>\n",
              "      <td>ProductDev</td>\n",
              "      <td>Association</td>\n",
              "      <td>1</td>\n",
              "      <td>0</td>\n",
              "      <td>N</td>\n",
              "      <td>5000</td>\n",
              "      <td>0</td>\n",
              "    </tr>\n",
              "    <tr>\n",
              "      <th>3</th>\n",
              "      <td>10553066</td>\n",
              "      <td>SOUTHSIDE ATHLETIC ASSOCIATION</td>\n",
              "      <td>T3</td>\n",
              "      <td>CompanySponsored</td>\n",
              "      <td>C2000</td>\n",
              "      <td>Preservation</td>\n",
              "      <td>Trust</td>\n",
              "      <td>1</td>\n",
              "      <td>10000-24999</td>\n",
              "      <td>N</td>\n",
              "      <td>6692</td>\n",
              "      <td>1</td>\n",
              "    </tr>\n",
              "    <tr>\n",
              "      <th>4</th>\n",
              "      <td>10556103</td>\n",
              "      <td>GENETIC RESEARCH INSTITUTE OF THE DESERT</td>\n",
              "      <td>T3</td>\n",
              "      <td>Independent</td>\n",
              "      <td>C1000</td>\n",
              "      <td>Heathcare</td>\n",
              "      <td>Trust</td>\n",
              "      <td>1</td>\n",
              "      <td>100000-499999</td>\n",
              "      <td>N</td>\n",
              "      <td>142590</td>\n",
              "      <td>1</td>\n",
              "    </tr>\n",
              "  </tbody>\n",
              "</table>\n",
              "</div>\n",
<<<<<<< HEAD
              "      <button class=\"colab-df-convert\" onclick=\"convertToInteractive('df-092114fc-7579-400c-acde-aba43450c90f')\"\n",
=======
              "      <button class=\"colab-df-convert\" onclick=\"convertToInteractive('df-04941fb6-3b7c-45d8-a445-249a68fef2fd')\"\n",
>>>>>>> eaf105bd64dba7d6bbf7e218f78c87c783f5b0dc
              "              title=\"Convert this dataframe to an interactive table.\"\n",
              "              style=\"display:none;\">\n",
              "        \n",
              "  <svg xmlns=\"http://www.w3.org/2000/svg\" height=\"24px\"viewBox=\"0 0 24 24\"\n",
              "       width=\"24px\">\n",
              "    <path d=\"M0 0h24v24H0V0z\" fill=\"none\"/>\n",
              "    <path d=\"M18.56 5.44l.94 2.06.94-2.06 2.06-.94-2.06-.94-.94-2.06-.94 2.06-2.06.94zm-11 1L8.5 8.5l.94-2.06 2.06-.94-2.06-.94L8.5 2.5l-.94 2.06-2.06.94zm10 10l.94 2.06.94-2.06 2.06-.94-2.06-.94-.94-2.06-.94 2.06-2.06.94z\"/><path d=\"M17.41 7.96l-1.37-1.37c-.4-.4-.92-.59-1.43-.59-.52 0-1.04.2-1.43.59L10.3 9.45l-7.72 7.72c-.78.78-.78 2.05 0 2.83L4 21.41c.39.39.9.59 1.41.59.51 0 1.02-.2 1.41-.59l7.78-7.78 2.81-2.81c.8-.78.8-2.07 0-2.86zM5.41 20L4 18.59l7.72-7.72 1.47 1.35L5.41 20z\"/>\n",
              "  </svg>\n",
              "      </button>\n",
              "      \n",
              "  <style>\n",
              "    .colab-df-container {\n",
              "      display:flex;\n",
              "      flex-wrap:wrap;\n",
              "      gap: 12px;\n",
              "    }\n",
              "\n",
              "    .colab-df-convert {\n",
              "      background-color: #E8F0FE;\n",
              "      border: none;\n",
              "      border-radius: 50%;\n",
              "      cursor: pointer;\n",
              "      display: none;\n",
              "      fill: #1967D2;\n",
              "      height: 32px;\n",
              "      padding: 0 0 0 0;\n",
              "      width: 32px;\n",
              "    }\n",
              "\n",
              "    .colab-df-convert:hover {\n",
              "      background-color: #E2EBFA;\n",
              "      box-shadow: 0px 1px 2px rgba(60, 64, 67, 0.3), 0px 1px 3px 1px rgba(60, 64, 67, 0.15);\n",
              "      fill: #174EA6;\n",
              "    }\n",
              "\n",
              "    [theme=dark] .colab-df-convert {\n",
              "      background-color: #3B4455;\n",
              "      fill: #D2E3FC;\n",
              "    }\n",
              "\n",
              "    [theme=dark] .colab-df-convert:hover {\n",
              "      background-color: #434B5C;\n",
              "      box-shadow: 0px 1px 3px 1px rgba(0, 0, 0, 0.15);\n",
              "      filter: drop-shadow(0px 1px 2px rgba(0, 0, 0, 0.3));\n",
              "      fill: #FFFFFF;\n",
              "    }\n",
              "  </style>\n",
              "\n",
              "      <script>\n",
              "        const buttonEl =\n",
<<<<<<< HEAD
              "          document.querySelector('#df-092114fc-7579-400c-acde-aba43450c90f button.colab-df-convert');\n",
=======
              "          document.querySelector('#df-04941fb6-3b7c-45d8-a445-249a68fef2fd button.colab-df-convert');\n",
>>>>>>> eaf105bd64dba7d6bbf7e218f78c87c783f5b0dc
              "        buttonEl.style.display =\n",
              "          google.colab.kernel.accessAllowed ? 'block' : 'none';\n",
              "\n",
              "        async function convertToInteractive(key) {\n",
<<<<<<< HEAD
              "          const element = document.querySelector('#df-092114fc-7579-400c-acde-aba43450c90f');\n",
=======
              "          const element = document.querySelector('#df-04941fb6-3b7c-45d8-a445-249a68fef2fd');\n",
>>>>>>> eaf105bd64dba7d6bbf7e218f78c87c783f5b0dc
              "          const dataTable =\n",
              "            await google.colab.kernel.invokeFunction('convertToInteractive',\n",
              "                                                     [key], {});\n",
              "          if (!dataTable) return;\n",
              "\n",
              "          const docLinkHtml = 'Like what you see? Visit the ' +\n",
              "            '<a target=\"_blank\" href=https://colab.research.google.com/notebooks/data_table.ipynb>data table notebook</a>'\n",
              "            + ' to learn more about interactive tables.';\n",
              "          element.innerHTML = '';\n",
              "          dataTable['output_type'] = 'display_data';\n",
              "          await google.colab.output.renderOutput(dataTable, element);\n",
              "          const docLink = document.createElement('div');\n",
              "          docLink.innerHTML = docLinkHtml;\n",
              "          element.appendChild(docLink);\n",
              "        }\n",
              "      </script>\n",
              "    </div>\n",
              "  </div>\n",
              "  "
            ]
          },
          "metadata": {},
          "execution_count": 1
        }
      ],
      "source": [
        "# Import our dependencies\n",
        "from sklearn.model_selection import train_test_split\n",
        "from sklearn.preprocessing import StandardScaler\n",
        "import pandas as pd\n",
        "import tensorflow as tf\n",
        "\n",
        "#  Import and read the charity_data.csv.\n",
        "import pandas as pd\n",
        "application_df = pd.read_csv(\"https://static.bc-edx.com/data/dl-1-2/m21/lms/starter/charity_data.csv\")\n",
        "application_df.head()"
      ]
    },
    {
      "cell_type": "code",
      "execution_count": 2,
      "metadata": {
        "colab": {
          "base_uri": "https://localhost:8080/",
          "height": 206
        },
        "id": "RFlMzFfhe7Bf",
<<<<<<< HEAD
        "outputId": "861d2e1a-48ef-4647-f57a-64bfe333b8de"
=======
        "outputId": "169b0904-b737-48aa-9b3b-b60de698b172"
>>>>>>> eaf105bd64dba7d6bbf7e218f78c87c783f5b0dc
      },
      "outputs": [
        {
          "output_type": "execute_result",
          "data": {
            "text/plain": [
              "  APPLICATION_TYPE       AFFILIATION CLASSIFICATION      USE_CASE  \\\n",
              "0              T10       Independent          C1000    ProductDev   \n",
              "1               T3       Independent          C2000  Preservation   \n",
              "2               T5  CompanySponsored          C3000    ProductDev   \n",
              "3               T3  CompanySponsored          C2000  Preservation   \n",
              "4               T3       Independent          C1000     Heathcare   \n",
              "\n",
              "   ORGANIZATION  STATUS     INCOME_AMT SPECIAL_CONSIDERATIONS  ASK_AMT  \\\n",
              "0   Association       1              0                      N     5000   \n",
              "1  Co-operative       1         1-9999                      N   108590   \n",
              "2   Association       1              0                      N     5000   \n",
              "3         Trust       1    10000-24999                      N     6692   \n",
              "4         Trust       1  100000-499999                      N   142590   \n",
              "\n",
              "   IS_SUCCESSFUL  \n",
              "0              1  \n",
              "1              1  \n",
              "2              0  \n",
              "3              1  \n",
              "4              1  "
            ],
            "text/html": [
              "\n",
<<<<<<< HEAD
              "  <div id=\"df-2f2fb316-742f-4d67-8f0e-d06c7b619cc9\">\n",
=======
              "  <div id=\"df-e39bc28e-31e2-45ba-a813-fb2d206b130c\">\n",
>>>>>>> eaf105bd64dba7d6bbf7e218f78c87c783f5b0dc
              "    <div class=\"colab-df-container\">\n",
              "      <div>\n",
              "<style scoped>\n",
              "    .dataframe tbody tr th:only-of-type {\n",
              "        vertical-align: middle;\n",
              "    }\n",
              "\n",
              "    .dataframe tbody tr th {\n",
              "        vertical-align: top;\n",
              "    }\n",
              "\n",
              "    .dataframe thead th {\n",
              "        text-align: right;\n",
              "    }\n",
              "</style>\n",
              "<table border=\"1\" class=\"dataframe\">\n",
              "  <thead>\n",
              "    <tr style=\"text-align: right;\">\n",
              "      <th></th>\n",
              "      <th>APPLICATION_TYPE</th>\n",
              "      <th>AFFILIATION</th>\n",
              "      <th>CLASSIFICATION</th>\n",
              "      <th>USE_CASE</th>\n",
              "      <th>ORGANIZATION</th>\n",
              "      <th>STATUS</th>\n",
              "      <th>INCOME_AMT</th>\n",
              "      <th>SPECIAL_CONSIDERATIONS</th>\n",
              "      <th>ASK_AMT</th>\n",
              "      <th>IS_SUCCESSFUL</th>\n",
              "    </tr>\n",
              "  </thead>\n",
              "  <tbody>\n",
              "    <tr>\n",
              "      <th>0</th>\n",
              "      <td>T10</td>\n",
              "      <td>Independent</td>\n",
              "      <td>C1000</td>\n",
              "      <td>ProductDev</td>\n",
              "      <td>Association</td>\n",
              "      <td>1</td>\n",
              "      <td>0</td>\n",
              "      <td>N</td>\n",
              "      <td>5000</td>\n",
              "      <td>1</td>\n",
              "    </tr>\n",
              "    <tr>\n",
              "      <th>1</th>\n",
              "      <td>T3</td>\n",
              "      <td>Independent</td>\n",
              "      <td>C2000</td>\n",
              "      <td>Preservation</td>\n",
              "      <td>Co-operative</td>\n",
              "      <td>1</td>\n",
              "      <td>1-9999</td>\n",
              "      <td>N</td>\n",
              "      <td>108590</td>\n",
              "      <td>1</td>\n",
              "    </tr>\n",
              "    <tr>\n",
              "      <th>2</th>\n",
              "      <td>T5</td>\n",
              "      <td>CompanySponsored</td>\n",
              "      <td>C3000</td>\n",
              "      <td>ProductDev</td>\n",
              "      <td>Association</td>\n",
              "      <td>1</td>\n",
              "      <td>0</td>\n",
              "      <td>N</td>\n",
              "      <td>5000</td>\n",
              "      <td>0</td>\n",
              "    </tr>\n",
              "    <tr>\n",
              "      <th>3</th>\n",
              "      <td>T3</td>\n",
              "      <td>CompanySponsored</td>\n",
              "      <td>C2000</td>\n",
              "      <td>Preservation</td>\n",
              "      <td>Trust</td>\n",
              "      <td>1</td>\n",
              "      <td>10000-24999</td>\n",
              "      <td>N</td>\n",
              "      <td>6692</td>\n",
              "      <td>1</td>\n",
              "    </tr>\n",
              "    <tr>\n",
              "      <th>4</th>\n",
              "      <td>T3</td>\n",
              "      <td>Independent</td>\n",
              "      <td>C1000</td>\n",
              "      <td>Heathcare</td>\n",
              "      <td>Trust</td>\n",
              "      <td>1</td>\n",
              "      <td>100000-499999</td>\n",
              "      <td>N</td>\n",
              "      <td>142590</td>\n",
              "      <td>1</td>\n",
              "    </tr>\n",
              "  </tbody>\n",
              "</table>\n",
              "</div>\n",
<<<<<<< HEAD
              "      <button class=\"colab-df-convert\" onclick=\"convertToInteractive('df-2f2fb316-742f-4d67-8f0e-d06c7b619cc9')\"\n",
=======
              "      <button class=\"colab-df-convert\" onclick=\"convertToInteractive('df-e39bc28e-31e2-45ba-a813-fb2d206b130c')\"\n",
>>>>>>> eaf105bd64dba7d6bbf7e218f78c87c783f5b0dc
              "              title=\"Convert this dataframe to an interactive table.\"\n",
              "              style=\"display:none;\">\n",
              "        \n",
              "  <svg xmlns=\"http://www.w3.org/2000/svg\" height=\"24px\"viewBox=\"0 0 24 24\"\n",
              "       width=\"24px\">\n",
              "    <path d=\"M0 0h24v24H0V0z\" fill=\"none\"/>\n",
              "    <path d=\"M18.56 5.44l.94 2.06.94-2.06 2.06-.94-2.06-.94-.94-2.06-.94 2.06-2.06.94zm-11 1L8.5 8.5l.94-2.06 2.06-.94-2.06-.94L8.5 2.5l-.94 2.06-2.06.94zm10 10l.94 2.06.94-2.06 2.06-.94-2.06-.94-.94-2.06-.94 2.06-2.06.94z\"/><path d=\"M17.41 7.96l-1.37-1.37c-.4-.4-.92-.59-1.43-.59-.52 0-1.04.2-1.43.59L10.3 9.45l-7.72 7.72c-.78.78-.78 2.05 0 2.83L4 21.41c.39.39.9.59 1.41.59.51 0 1.02-.2 1.41-.59l7.78-7.78 2.81-2.81c.8-.78.8-2.07 0-2.86zM5.41 20L4 18.59l7.72-7.72 1.47 1.35L5.41 20z\"/>\n",
              "  </svg>\n",
              "      </button>\n",
              "      \n",
              "  <style>\n",
              "    .colab-df-container {\n",
              "      display:flex;\n",
              "      flex-wrap:wrap;\n",
              "      gap: 12px;\n",
              "    }\n",
              "\n",
              "    .colab-df-convert {\n",
              "      background-color: #E8F0FE;\n",
              "      border: none;\n",
              "      border-radius: 50%;\n",
              "      cursor: pointer;\n",
              "      display: none;\n",
              "      fill: #1967D2;\n",
              "      height: 32px;\n",
              "      padding: 0 0 0 0;\n",
              "      width: 32px;\n",
              "    }\n",
              "\n",
              "    .colab-df-convert:hover {\n",
              "      background-color: #E2EBFA;\n",
              "      box-shadow: 0px 1px 2px rgba(60, 64, 67, 0.3), 0px 1px 3px 1px rgba(60, 64, 67, 0.15);\n",
              "      fill: #174EA6;\n",
              "    }\n",
              "\n",
              "    [theme=dark] .colab-df-convert {\n",
              "      background-color: #3B4455;\n",
              "      fill: #D2E3FC;\n",
              "    }\n",
              "\n",
              "    [theme=dark] .colab-df-convert:hover {\n",
              "      background-color: #434B5C;\n",
              "      box-shadow: 0px 1px 3px 1px rgba(0, 0, 0, 0.15);\n",
              "      filter: drop-shadow(0px 1px 2px rgba(0, 0, 0, 0.3));\n",
              "      fill: #FFFFFF;\n",
              "    }\n",
              "  </style>\n",
              "\n",
              "      <script>\n",
              "        const buttonEl =\n",
<<<<<<< HEAD
              "          document.querySelector('#df-2f2fb316-742f-4d67-8f0e-d06c7b619cc9 button.colab-df-convert');\n",
=======
              "          document.querySelector('#df-e39bc28e-31e2-45ba-a813-fb2d206b130c button.colab-df-convert');\n",
>>>>>>> eaf105bd64dba7d6bbf7e218f78c87c783f5b0dc
              "        buttonEl.style.display =\n",
              "          google.colab.kernel.accessAllowed ? 'block' : 'none';\n",
              "\n",
              "        async function convertToInteractive(key) {\n",
<<<<<<< HEAD
              "          const element = document.querySelector('#df-2f2fb316-742f-4d67-8f0e-d06c7b619cc9');\n",
=======
              "          const element = document.querySelector('#df-e39bc28e-31e2-45ba-a813-fb2d206b130c');\n",
>>>>>>> eaf105bd64dba7d6bbf7e218f78c87c783f5b0dc
              "          const dataTable =\n",
              "            await google.colab.kernel.invokeFunction('convertToInteractive',\n",
              "                                                     [key], {});\n",
              "          if (!dataTable) return;\n",
              "\n",
              "          const docLinkHtml = 'Like what you see? Visit the ' +\n",
              "            '<a target=\"_blank\" href=https://colab.research.google.com/notebooks/data_table.ipynb>data table notebook</a>'\n",
              "            + ' to learn more about interactive tables.';\n",
              "          element.innerHTML = '';\n",
              "          dataTable['output_type'] = 'display_data';\n",
              "          await google.colab.output.renderOutput(dataTable, element);\n",
              "          const docLink = document.createElement('div');\n",
              "          docLink.innerHTML = docLinkHtml;\n",
              "          element.appendChild(docLink);\n",
              "        }\n",
              "      </script>\n",
              "    </div>\n",
              "  </div>\n",
              "  "
            ]
          },
          "metadata": {},
          "execution_count": 2
        }
      ],
      "source": [
        "# Drop the non-beneficial ID columns, 'EIN' and 'NAME'.\n",
        "\n",
        "new_application_df = application_df.drop([\"EIN\", \"NAME\"], axis=1)\n",
        "new_application_df[:5]"
      ]
    },
    {
      "cell_type": "code",
      "execution_count": 3,
      "metadata": {
        "colab": {
          "base_uri": "https://localhost:8080/"
        },
        "id": "ySw1O6sIe7Bg",
<<<<<<< HEAD
        "outputId": "fc8035e0-1a55-4209-8b39-3dcc2e613d19"
=======
        "outputId": "9fbbe048-1ca7-49fe-e2b0-08d62348de03"
>>>>>>> eaf105bd64dba7d6bbf7e218f78c87c783f5b0dc
      },
      "outputs": [
        {
          "output_type": "stream",
          "name": "stdout",
          "text": [
            "APPLICATION_TYPE            17\n",
            "AFFILIATION                  6\n",
            "CLASSIFICATION              71\n",
            "USE_CASE                     5\n",
            "ORGANIZATION                 4\n",
            "STATUS                       2\n",
            "INCOME_AMT                   9\n",
            "SPECIAL_CONSIDERATIONS       2\n",
            "ASK_AMT                   8747\n",
            "IS_SUCCESSFUL                2\n",
            "dtype: int64\n"
          ]
        }
      ],
      "source": [
        "# Determine the number of unique values in each column.\n",
        "unique_application = new_application_df.nunique()\n",
        "print(unique_application)"
      ]
    },
    {
      "cell_type": "code",
      "execution_count": 4,
      "metadata": {
        "id": "-bvU5l1Ae7Bg"
      },
      "outputs": [],
      "source": [
        "# Look at APPLICATION_TYPE value counts for binning\n",
        "application_type_counts = new_application_df['APPLICATION_TYPE'].value_counts()\n",
        "\n"
      ]
    },
    {
      "cell_type": "code",
      "execution_count": 5,
      "metadata": {
        "colab": {
          "base_uri": "https://localhost:8080/"
        },
        "id": "Al7Iu87ue7Bg",
<<<<<<< HEAD
        "outputId": "ec21ec50-d8da-4240-a209-b47454ba7870"
=======
        "outputId": "3999ff9b-c146-44f4-be11-4e65f52e61ee"
>>>>>>> eaf105bd64dba7d6bbf7e218f78c87c783f5b0dc
      },
      "outputs": [
        {
          "output_type": "execute_result",
          "data": {
            "text/plain": [
              "T3       27037\n",
              "T4        1542\n",
              "T6        1216\n",
              "T5        1173\n",
              "T19       1065\n",
              "T8         737\n",
              "T7         725\n",
              "T10        528\n",
              "Other      276\n",
              "Name: APPLICATION_TYPE, dtype: int64"
            ]
          },
          "metadata": {},
          "execution_count": 5
        }
      ],
      "source": [
        "# Choose a cutoff value and create a list of application types to be replaced\n",
        "# use the variable name `application_types_to_replace`\n",
        "cutoff = 200\n",
        "application_types_to_replace = application_type_counts[application_type_counts <= cutoff].index.tolist()\n",
        "\n",
        "\n",
        "# Replace in dataframe\n",
        "for app in application_types_to_replace:\n",
        "    application_df['APPLICATION_TYPE'] = application_df['APPLICATION_TYPE'].replace(app,\"Other\")\n",
        "\n",
        "# Check to make sure binning was successful\n",
        "application_df['APPLICATION_TYPE'].value_counts()"
      ]
    },
    {
      "cell_type": "code",
      "execution_count": 6,
      "metadata": {
        "id": "zYdFk4Mqe7Bh"
      },
      "outputs": [],
      "source": [
        "# Look at CLASSIFICATION value counts for binning\n",
        "classification_counts = application_df['CLASSIFICATION'].value_counts()\n"
      ]
    },
    {
      "cell_type": "code",
      "execution_count": 7,
      "metadata": {
        "id": "E9lVloe0e7Bh"
      },
      "outputs": [],
      "source": [
        "# You may find it helpful to look at CLASSIFICATION value counts >1\n",
        "new_classification= classification_counts[classification_counts>1]\n"
      ]
    },
    {
      "cell_type": "code",
      "execution_count": 8,
      "metadata": {
        "colab": {
          "base_uri": "https://localhost:8080/"
        },
        "id": "LLV3UppEe7Bh",
<<<<<<< HEAD
        "outputId": "2d8feaad-8e8b-43ea-d52f-ee6f6a0322b7"
=======
        "outputId": "05d1e76a-7005-48fc-fd12-712d5ff4d824"
>>>>>>> eaf105bd64dba7d6bbf7e218f78c87c783f5b0dc
      },
      "outputs": [
        {
          "output_type": "execute_result",
          "data": {
            "text/plain": [
              "C1000    17326\n",
              "C2000     6074\n",
              "C1200     4837\n",
              "Other     2261\n",
              "C3000     1918\n",
              "C2100     1883\n",
              "Name: CLASSIFICATION, dtype: int64"
            ]
          },
          "metadata": {},
          "execution_count": 8
        }
      ],
      "source": [
        "# Choose a cutoff value and create a list of classifications to be replaced\n",
        "# use the variable name `classifications_to_replace`\n",
        "classifications_cutoff = 1000\n",
        "classifications_to_replace = classification_counts[classification_counts <= classifications_cutoff].index.tolist()\n",
        "\n",
        "\n",
        "\n",
        "# Replace in dataframe\n",
        "for cls in classifications_to_replace:\n",
        "    application_df['CLASSIFICATION'] = application_df['CLASSIFICATION'].replace(cls,\"Other\")\n",
        "\n",
        "# Check to make sure binning was successful\n",
        "application_df['CLASSIFICATION'].value_counts()"
      ]
    },
    {
      "cell_type": "code",
      "execution_count": 9,
      "metadata": {
        "id": "z6W_5F6pe7Bi"
      },
      "outputs": [],
      "source": [
        "# Convert categorical data to numeric with `pd.get_dummies`\n",
        "coverted_df= pd.get_dummies(application_df)\n"
      ]
    },
    {
      "cell_type": "code",
      "execution_count": 10,
      "metadata": {
        "id": "78FMBel6e7Bi"
      },
      "outputs": [],
      "source": [
        "# Split our preprocessed data into our features and target arrays\n",
        "#from sklearn.model_selection import train_test_split\n",
<<<<<<< HEAD
        "sample_size = int(len(coverted_df) * 0.5)  # 50% of the original dataset as I run out of RAM\n",
=======
        "sample_size = int(len(coverted_df) * 0.15)  # 15% of the original dataset as I run out of RAM\n",
>>>>>>> eaf105bd64dba7d6bbf7e218f78c87c783f5b0dc
        "sample_df = coverted_df[:sample_size]\n",
        "\n",
        "\n",
        "# Split the preprocessed data into features and target arrays\n",
        "X = sample_df.drop('IS_SUCCESSFUL', axis=1).values\n",
        "y = sample_df['IS_SUCCESSFUL'].values\n",
        "\n",
        "\n",
        "# Split the preprocessed data into a training and testing dataset\n",
        "\n",
<<<<<<< HEAD
        "X_train, X_test, y_train, y_test = train_test_split(X, y, test_size=0.5, random_state=42)\n",
=======
        "X_train, X_test, y_train, y_test = train_test_split(X, y, test_size=0.2, random_state=42)\n",
>>>>>>> eaf105bd64dba7d6bbf7e218f78c87c783f5b0dc
        "\n"
      ]
    },
    {
      "cell_type": "code",
      "execution_count": 11,
      "metadata": {
        "id": "ji4KJ9Q0e7Bi"
      },
      "outputs": [],
      "source": [
        "# Create a StandardScaler instances\n",
        "scaler = StandardScaler()\n",
        "\n",
        "# Fit the StandardScaler\n",
        "X_scaler = scaler.fit(X_train)\n",
        "\n",
        "# Scale the data\n",
        "X_train_scaled = X_scaler.transform(X_train)\n",
        "X_test_scaled = X_scaler.transform(X_test)"
      ]
    },
    {
      "cell_type": "markdown",
      "metadata": {
        "id": "wlQEkAkYe7Bj"
      },
      "source": [
        "## Compile, Train and Evaluate the Model"
      ]
    },
    {
      "cell_type": "code",
<<<<<<< HEAD
      "execution_count": 13,
=======
      "execution_count": 12,
>>>>>>> eaf105bd64dba7d6bbf7e218f78c87c783f5b0dc
      "metadata": {
        "colab": {
          "base_uri": "https://localhost:8080/"
        },
        "id": "179uo124e7Bj",
<<<<<<< HEAD
        "outputId": "46dd53ea-2a15-4f46-8176-eaa2124d8ea2"
=======
        "outputId": "2b37f3d0-006f-497c-93be-12cb047a3e0b"
>>>>>>> eaf105bd64dba7d6bbf7e218f78c87c783f5b0dc
      },
      "outputs": [
        {
          "output_type": "stream",
          "name": "stdout",
          "text": [
<<<<<<< HEAD
            "Model: \"sequential_1\"\n",
=======
            "Model: \"sequential\"\n",
>>>>>>> eaf105bd64dba7d6bbf7e218f78c87c783f5b0dc
            "_________________________________________________________________\n",
            " Layer (type)                Output Shape              Param #   \n",
            "=================================================================\n",
            " dense (Dense)               (None, 80)                1569040   \n",
            "                                                                 \n",
            " dense_1 (Dense)             (None, 30)                2430      \n",
            "                                                                 \n",
            " dense_2 (Dense)             (None, 1)                 31        \n",
            "                                                                 \n",
            "=================================================================\n",
            "Total params: 1,571,501\n",
            "Trainable params: 1,571,501\n",
            "Non-trainable params: 0\n",
            "_________________________________________________________________\n"
          ]
        }
      ],
      "source": [
        "# Define the model - deep neural net, i.e., the number of input features and hidden nodes for each layer.\n",
        "nn = tf.keras.models.Sequential()\n",
        "\n",
        "# First hidden layer\n",
<<<<<<< HEAD
        "nn.add(tf.keras.layers.Dense(units=80, activation=\"relu\", input_dim=X_train.shape[1]))\n",
        "\n",
        "# Second hidden layer\n",
        "nn.add(tf.keras.layers.Dense(units=30, activation=\"sigmoid\"))\n",
        "\n",
        "# Output layer\n",
        "nn.add(tf.keras.layers.Dense(units=1, activation=\"sigmoid\"))\n",
        "\n",
=======
        "nn.add(tf.keras.layers.Dense(units=80, activation=\"relu\",input_dim=X_train.shape[1]))\n",
        "\n",
        "# Second hidden layer\n",
        "nn.add(tf.keras.layers.Dense(units=30, activation=\"relu\"))\n",
        "\n",
        "# Output layer\n",
        "nn.add(tf.keras.layers.Dense(units=1, activation=\"sigmoid\"))\n",
>>>>>>> eaf105bd64dba7d6bbf7e218f78c87c783f5b0dc
        "# Check the structure of the model\n",
        "nn.summary()\n",
        "\n"
      ]
    },
    {
      "cell_type": "code",
<<<<<<< HEAD
      "execution_count": 14,
=======
      "execution_count": 13,
>>>>>>> eaf105bd64dba7d6bbf7e218f78c87c783f5b0dc
      "metadata": {
        "id": "7w7RXu5ve7Bj"
      },
      "outputs": [],
      "source": [
        "# Compile the model\n",
        "nn.compile(loss=\"binary_crossentropy\", optimizer=\"adam\", metrics=[\"accuracy\"])\n"
      ]
    },
    {
      "cell_type": "code",
      "source": [
<<<<<<< HEAD
        "print(X_train_scaled.shape)\n",
        "print(X_test_scaled.shape)\n"
=======
        "print(X_train.shape)\n",
        "print(y_train.shape)\n"
>>>>>>> eaf105bd64dba7d6bbf7e218f78c87c783f5b0dc
      ],
      "metadata": {
        "colab": {
          "base_uri": "https://localhost:8080/"
        },
        "id": "7Iwr3AruZssC",
<<<<<<< HEAD
        "outputId": "530edaf9-9d64-4ec1-cfd8-976df442177a"
      },
      "execution_count": 15,
=======
        "outputId": "eeb82950-d058-42cf-8283-c76ef91876f1"
      },
      "execution_count": 14,
>>>>>>> eaf105bd64dba7d6bbf7e218f78c87c783f5b0dc
      "outputs": [
        {
          "output_type": "stream",
          "name": "stdout",
          "text": [
<<<<<<< HEAD
            "(8574, 19612)\n",
            "(8575, 19612)\n"
=======
            "(4115, 19612)\n",
            "(4115,)\n"
>>>>>>> eaf105bd64dba7d6bbf7e218f78c87c783f5b0dc
          ]
        }
      ]
    },
    {
      "cell_type": "code",
<<<<<<< HEAD
=======
      "execution_count": 15,
      "metadata": {
        "colab": {
          "base_uri": "https://localhost:8080/"
        },
        "id": "hA7urj2Ze7Bj",
        "outputId": "762b64e4-e14e-454b-a959-da1106edecf2"
      },
      "outputs": [
        {
          "output_type": "stream",
          "name": "stdout",
          "text": [
            "Epoch 1/50\n",
            "129/129 [==============================] - 3s 21ms/step - loss: 0.6239 - accuracy: 0.6552\n",
            "Epoch 2/50\n",
            "129/129 [==============================] - 3s 21ms/step - loss: 0.2050 - accuracy: 0.9271\n",
            "Epoch 3/50\n",
            "129/129 [==============================] - 4s 27ms/step - loss: 0.0974 - accuracy: 0.9606\n",
            "Epoch 4/50\n",
            "129/129 [==============================] - 3s 20ms/step - loss: 0.0908 - accuracy: 0.9589\n",
            "Epoch 5/50\n",
            "129/129 [==============================] - 3s 20ms/step - loss: 0.0844 - accuracy: 0.9628\n",
            "Epoch 6/50\n",
            "129/129 [==============================] - 3s 20ms/step - loss: 0.0854 - accuracy: 0.9604\n",
            "Epoch 7/50\n",
            "129/129 [==============================] - 3s 22ms/step - loss: 0.0838 - accuracy: 0.9631\n",
            "Epoch 8/50\n",
            "129/129 [==============================] - 3s 25ms/step - loss: 0.0798 - accuracy: 0.9648\n",
            "Epoch 9/50\n",
            "129/129 [==============================] - 3s 21ms/step - loss: 0.0780 - accuracy: 0.9665\n",
            "Epoch 10/50\n",
            "129/129 [==============================] - 3s 20ms/step - loss: 0.0777 - accuracy: 0.9652\n",
            "Epoch 11/50\n",
            "129/129 [==============================] - 3s 20ms/step - loss: 0.0762 - accuracy: 0.9657\n",
            "Epoch 12/50\n",
            "129/129 [==============================] - 3s 25ms/step - loss: 0.0757 - accuracy: 0.9662\n",
            "Epoch 13/50\n",
            "129/129 [==============================] - 3s 22ms/step - loss: 0.0741 - accuracy: 0.9667\n",
            "Epoch 14/50\n",
            "129/129 [==============================] - 3s 20ms/step - loss: 0.0740 - accuracy: 0.9660\n",
            "Epoch 15/50\n",
            "129/129 [==============================] - 3s 20ms/step - loss: 0.0728 - accuracy: 0.9667\n",
            "Epoch 16/50\n",
            "129/129 [==============================] - 3s 20ms/step - loss: 0.0720 - accuracy: 0.9665\n",
            "Epoch 17/50\n",
            "129/129 [==============================] - 3s 26ms/step - loss: 0.0731 - accuracy: 0.9677\n",
            "Epoch 18/50\n",
            "129/129 [==============================] - 3s 20ms/step - loss: 0.0717 - accuracy: 0.9660\n",
            "Epoch 19/50\n",
            "129/129 [==============================] - 3s 20ms/step - loss: 0.0731 - accuracy: 0.9657\n",
            "Epoch 20/50\n",
            "129/129 [==============================] - 3s 20ms/step - loss: 0.0702 - accuracy: 0.9667\n",
            "Epoch 21/50\n",
            "129/129 [==============================] - 3s 21ms/step - loss: 0.0697 - accuracy: 0.9704\n",
            "Epoch 22/50\n",
            "129/129 [==============================] - 3s 26ms/step - loss: 0.0693 - accuracy: 0.9670\n",
            "Epoch 23/50\n",
            "129/129 [==============================] - 3s 20ms/step - loss: 0.0695 - accuracy: 0.9682\n",
            "Epoch 24/50\n",
            "129/129 [==============================] - 3s 20ms/step - loss: 0.0678 - accuracy: 0.9694\n",
            "Epoch 25/50\n",
            "129/129 [==============================] - 3s 20ms/step - loss: 0.0690 - accuracy: 0.9670\n",
            "Epoch 26/50\n",
            "129/129 [==============================] - 3s 23ms/step - loss: 0.0690 - accuracy: 0.9677\n",
            "Epoch 27/50\n",
            "129/129 [==============================] - 3s 26ms/step - loss: 0.0708 - accuracy: 0.9660\n",
            "Epoch 28/50\n",
            "129/129 [==============================] - 3s 26ms/step - loss: 0.0672 - accuracy: 0.9706\n",
            "Epoch 29/50\n",
            "129/129 [==============================] - 3s 20ms/step - loss: 0.0679 - accuracy: 0.9701\n",
            "Epoch 30/50\n",
            "129/129 [==============================] - 3s 21ms/step - loss: 0.0671 - accuracy: 0.9694\n",
            "Epoch 31/50\n",
            "129/129 [==============================] - 3s 26ms/step - loss: 0.0669 - accuracy: 0.9694\n",
            "Epoch 32/50\n",
            "129/129 [==============================] - 3s 20ms/step - loss: 0.0656 - accuracy: 0.9708\n",
            "Epoch 33/50\n",
            "129/129 [==============================] - 3s 20ms/step - loss: 0.0666 - accuracy: 0.9704\n",
            "Epoch 34/50\n",
            "129/129 [==============================] - 3s 20ms/step - loss: 0.0659 - accuracy: 0.9713\n",
            "Epoch 35/50\n",
            "129/129 [==============================] - 3s 22ms/step - loss: 0.0650 - accuracy: 0.9708\n",
            "Epoch 36/50\n",
            "129/129 [==============================] - 3s 24ms/step - loss: 0.0659 - accuracy: 0.9679\n",
            "Epoch 37/50\n",
            "129/129 [==============================] - 3s 20ms/step - loss: 0.0656 - accuracy: 0.9711\n",
            "Epoch 38/50\n",
            "129/129 [==============================] - 3s 20ms/step - loss: 0.0660 - accuracy: 0.9701\n",
            "Epoch 39/50\n",
            "129/129 [==============================] - 3s 20ms/step - loss: 0.0658 - accuracy: 0.9701\n",
            "Epoch 40/50\n",
            "129/129 [==============================] - 3s 26ms/step - loss: 0.0651 - accuracy: 0.9708\n",
            "Epoch 41/50\n",
            "129/129 [==============================] - 3s 21ms/step - loss: 0.0649 - accuracy: 0.9679\n",
            "Epoch 42/50\n",
            "129/129 [==============================] - 3s 20ms/step - loss: 0.0634 - accuracy: 0.9708\n",
            "Epoch 43/50\n",
            "129/129 [==============================] - 2s 19ms/step - loss: 0.0648 - accuracy: 0.9708\n",
            "Epoch 44/50\n",
            "129/129 [==============================] - 3s 20ms/step - loss: 0.0647 - accuracy: 0.9704\n",
            "Epoch 45/50\n",
            "129/129 [==============================] - 3s 27ms/step - loss: 0.0634 - accuracy: 0.9713\n",
            "Epoch 46/50\n",
            "129/129 [==============================] - 3s 20ms/step - loss: 0.0623 - accuracy: 0.9723\n",
            "Epoch 47/50\n",
            "129/129 [==============================] - 3s 20ms/step - loss: 0.0630 - accuracy: 0.9706\n",
            "Epoch 48/50\n",
            "129/129 [==============================] - 3s 20ms/step - loss: 0.0630 - accuracy: 0.9704\n",
            "Epoch 49/50\n",
            "129/129 [==============================] - 3s 24ms/step - loss: 0.0628 - accuracy: 0.9718\n",
            "Epoch 50/50\n",
            "129/129 [==============================] - 3s 24ms/step - loss: 0.0620 - accuracy: 0.9713\n"
          ]
        }
      ],
      "source": [
        "# Train the model\n",
        "fit_model = nn.fit(X_train_scaled, y_train, epochs=50)\n",
        "\n"
      ]
    },
    {
      "cell_type": "code",
>>>>>>> eaf105bd64dba7d6bbf7e218f78c87c783f5b0dc
      "execution_count": 16,
      "metadata": {
        "colab": {
          "base_uri": "https://localhost:8080/"
        },
<<<<<<< HEAD
        "id": "hA7urj2Ze7Bj",
        "outputId": "04eeda7f-1265-42f7-c1c1-2e5b9fb27522"
      },
      "outputs": [
        {
          "output_type": "stream",
          "name": "stdout",
          "text": [
            "Epoch 1/10\n",
            "268/268 [==============================] - 9s 29ms/step - loss: 0.5007 - accuracy: 0.7622\n",
            "Epoch 2/10\n",
            "268/268 [==============================] - 6s 23ms/step - loss: 0.1447 - accuracy: 0.9558\n",
            "Epoch 3/10\n",
            "268/268 [==============================] - 8s 29ms/step - loss: 0.0868 - accuracy: 0.9682\n",
            "Epoch 4/10\n",
            "268/268 [==============================] - 6s 23ms/step - loss: 0.0774 - accuracy: 0.9705\n",
            "Epoch 5/10\n",
            "268/268 [==============================] - 8s 28ms/step - loss: 0.0740 - accuracy: 0.9717\n",
            "Epoch 6/10\n",
            "268/268 [==============================] - 6s 23ms/step - loss: 0.0714 - accuracy: 0.9720\n",
            "Epoch 7/10\n",
            "268/268 [==============================] - 9s 34ms/step - loss: 0.0707 - accuracy: 0.9706\n",
            "Epoch 8/10\n",
            "268/268 [==============================] - 6s 24ms/step - loss: 0.0694 - accuracy: 0.9724\n",
            "Epoch 9/10\n",
            "268/268 [==============================] - 10s 37ms/step - loss: 0.0683 - accuracy: 0.9729\n",
            "Epoch 10/10\n",
            "268/268 [==============================] - 14s 53ms/step - loss: 0.0671 - accuracy: 0.9724\n"
          ]
        }
      ],
      "source": [
        "# Train the model\n",
        "fit_model = nn.fit(X_train_scaled, y_train, epochs=10)\n",
        "\n"
      ]
    },
    {
      "cell_type": "code",
      "execution_count": 17,
      "metadata": {
        "colab": {
          "base_uri": "https://localhost:8080/"
        },
        "id": "k7jE6i4be7Bj",
        "outputId": "90e45fa8-5712-406f-eecf-50657187575e"
=======
        "id": "k7jE6i4be7Bj",
        "outputId": "5af1b1dc-ed42-4b14-c804-b2ec2cc32f9f"
>>>>>>> eaf105bd64dba7d6bbf7e218f78c87c783f5b0dc
      },
      "outputs": [
        {
          "output_type": "stream",
          "name": "stdout",
          "text": [
<<<<<<< HEAD
            "268/268 - 1s - loss: 0.5368 - accuracy: 0.7085 - 1s/epoch - 5ms/step\n",
            "Loss: 0.5368348956108093, Accuracy: 0.7084547877311707\n"
=======
            "33/33 - 0s - loss: 0.7149 - accuracy: 0.7230 - 301ms/epoch - 9ms/step\n",
            "Loss: 0.7148645520210266, Accuracy: 0.7230320572853088\n"
>>>>>>> eaf105bd64dba7d6bbf7e218f78c87c783f5b0dc
          ]
        }
      ],
      "source": [
        "# Evaluate the model using the test data\n",
        "model_loss, model_accuracy = nn.evaluate(X_test_scaled,y_test,verbose=2)\n",
        "print(f\"Loss: {model_loss}, Accuracy: {model_accuracy}\")"
      ]
    },
    {
      "cell_type": "code",
<<<<<<< HEAD
      "execution_count": 23,
=======
      "execution_count": 17,
>>>>>>> eaf105bd64dba7d6bbf7e218f78c87c783f5b0dc
      "metadata": {
        "id": "i-DO_yefe7Bj"
      },
      "outputs": [],
      "source": [
        "# Export our model to HDF5 file\n",
<<<<<<< HEAD
        "nn.save(\"../AlphabetSoupCharity.h5\")\n"
=======
        "nn.save(\"AlphabetSoupCharity.h5\")\n"
>>>>>>> eaf105bd64dba7d6bbf7e218f78c87c783f5b0dc
      ]
    }
  ],
  "metadata": {
    "kernelspec": {
      "display_name": "Python 3",
      "language": "python",
      "name": "python3"
    },
    "language_info": {
      "codemirror_mode": {
        "name": "ipython",
        "version": 3
      },
      "file_extension": ".py",
      "mimetype": "text/x-python",
      "name": "python",
      "nbconvert_exporter": "python",
      "pygments_lexer": "ipython3",
      "version": "3.-1.-1"
    },
    "vscode": {
      "interpreter": {
        "hash": "31f2aee4e71d21fbe5cf8b01ff0e069b9275f58929596ceb00d14d90e3e16cd6"
      }
    },
    "colab": {
<<<<<<< HEAD
      "provenance": []
=======
      "provenance": [],
      "include_colab_link": true
>>>>>>> eaf105bd64dba7d6bbf7e218f78c87c783f5b0dc
    }
  },
  "nbformat": 4,
  "nbformat_minor": 0
}